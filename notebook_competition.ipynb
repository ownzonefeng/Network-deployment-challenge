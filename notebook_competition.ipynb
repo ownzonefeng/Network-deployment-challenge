{
 "cells": [
  {
   "cell_type": "markdown",
   "metadata": {},
   "source": [
    "# ThE raNDom WALkERS - Notebook report\n",
    "__Members:__ Jonathan Doenz, Wentao Feng, Yuxuan Wang"
   ]
  },
  {
   "cell_type": "code",
   "execution_count": 16,
   "metadata": {},
   "outputs": [
    {
     "name": "stdout",
     "output_type": "stream",
     "text": [
      "The autoreload extension is already loaded. To reload it, use:\n",
      "  %reload_ext autoreload\n"
     ]
    }
   ],
   "source": [
    "%load_ext autoreload\n",
    "%autoreload 2"
   ]
  },
  {
   "cell_type": "code",
   "execution_count": 17,
   "metadata": {},
   "outputs": [],
   "source": [
    "import os\n",
    "import pickle\n",
    "import scipy.stats as st\n",
    "import numpy as np\n",
    "import scipy as sp\n",
    "%matplotlib inline\n",
    "import matplotlib.pyplot as plt\n",
    "import pandas as pd\n",
    "from tqdm.notebook import tqdm, trange\n",
    "\n",
    "from funcs import *\n",
    "from MH import *\n",
    "from beta_optimizer import BetaOptimizerCompetition\n",
    "# from beta_optimizer import BetaOptimizer"
   ]
  },
  {
   "cell_type": "code",
   "execution_count": 18,
   "metadata": {},
   "outputs": [],
   "source": [
    "from IPython.display import set_matplotlib_formats\n",
    "set_matplotlib_formats('png')\n",
    "%matplotlib inline\n",
    "\n",
    "plt.rcParams['figure.figsize'] = [10.0, 6.0]\n",
    "plt.rcParams['figure.dpi'] = 80\n",
    "plt.rcParams['savefig.dpi'] = 100\n",
    "plt.rcParams['font.size'] = 16\n",
    "\n",
    "# Directory in which datasets of the competition should be put\n",
    "competition_data_dir = 'competition_data'\n",
    "\n",
    "# Directory in which file with optimal betas are stored\n",
    "generated_data_dir = 'generated_data'"
   ]
  },
  {
   "cell_type": "markdown",
   "metadata": {},
   "source": [
    "## Load dataset and convert it to the Generative Model API"
   ]
  },
  {
   "cell_type": "code",
   "execution_count": 33,
   "metadata": {},
   "outputs": [],
   "source": [
    "class ModelAPI():\n",
    "    def __init__(self, df):\n",
    "        self.N = len(df)\n",
    "        self.indices = df.iloc[:, 0].to_numpy()\n",
    "        self.v = df.iloc[:, 1].to_numpy()\n",
    "        self.x = df.loc[:, ['x', 'y']].to_numpy()\n",
    "    \n",
    "    def __len__(self):\n",
    "        return self.N"
   ]
  },
  {
   "cell_type": "code",
   "execution_count": 20,
   "metadata": {},
   "outputs": [],
   "source": [
    "dataset_df = pd.read_csv(os.path.join(competition_data_dir, '1k_cities_dataset.csv'))\n",
    "g = ModelAPI(dataset_df)"
   ]
  },
  {
   "cell_type": "code",
   "execution_count": 21,
   "metadata": {},
   "outputs": [
    {
     "name": "stdout",
     "output_type": "stream",
     "text": [
      "(1000, 4)\n"
     ]
    },
    {
     "data": {
      "text/html": [
       "<div>\n",
       "<style scoped>\n",
       "    .dataframe tbody tr th:only-of-type {\n",
       "        vertical-align: middle;\n",
       "    }\n",
       "\n",
       "    .dataframe tbody tr th {\n",
       "        vertical-align: top;\n",
       "    }\n",
       "\n",
       "    .dataframe thead th {\n",
       "        text-align: right;\n",
       "    }\n",
       "</style>\n",
       "<table border=\"1\" class=\"dataframe\">\n",
       "  <thead>\n",
       "    <tr style=\"text-align: right;\">\n",
       "      <th></th>\n",
       "      <th>id</th>\n",
       "      <th>population</th>\n",
       "      <th>x</th>\n",
       "      <th>y</th>\n",
       "    </tr>\n",
       "  </thead>\n",
       "  <tbody>\n",
       "    <tr>\n",
       "      <th>0</th>\n",
       "      <td>0</td>\n",
       "      <td>0.515513</td>\n",
       "      <td>0.590995</td>\n",
       "      <td>0.859291</td>\n",
       "    </tr>\n",
       "    <tr>\n",
       "      <th>1</th>\n",
       "      <td>1</td>\n",
       "      <td>0.532172</td>\n",
       "      <td>0.527430</td>\n",
       "      <td>0.042332</td>\n",
       "    </tr>\n",
       "    <tr>\n",
       "      <th>2</th>\n",
       "      <td>2</td>\n",
       "      <td>0.079333</td>\n",
       "      <td>0.993149</td>\n",
       "      <td>0.793874</td>\n",
       "    </tr>\n",
       "    <tr>\n",
       "      <th>3</th>\n",
       "      <td>3</td>\n",
       "      <td>0.302683</td>\n",
       "      <td>0.737311</td>\n",
       "      <td>0.340721</td>\n",
       "    </tr>\n",
       "    <tr>\n",
       "      <th>4</th>\n",
       "      <td>4</td>\n",
       "      <td>0.880427</td>\n",
       "      <td>0.351967</td>\n",
       "      <td>0.399398</td>\n",
       "    </tr>\n",
       "  </tbody>\n",
       "</table>\n",
       "</div>"
      ],
      "text/plain": [
       "   id  population         x         y\n",
       "0   0    0.515513  0.590995  0.859291\n",
       "1   1    0.532172  0.527430  0.042332\n",
       "2   2    0.079333  0.993149  0.793874\n",
       "3   3    0.302683  0.737311  0.340721\n",
       "4   4    0.880427  0.351967  0.399398"
      ]
     },
     "execution_count": 21,
     "metadata": {},
     "output_type": "execute_result"
    }
   ],
   "source": [
    "print(dataset_df.shape)\n",
    "dataset_df.head()"
   ]
  },
  {
   "cell_type": "markdown",
   "metadata": {},
   "source": [
    "## Compute optimal $\\beta(\\epsilon)$"
   ]
  },
  {
   "cell_type": "code",
   "execution_count": 126,
   "metadata": {},
   "outputs": [],
   "source": [
    "def compute_optimal_betas_competition(g, lambda_vec, n_iterations):\n",
    "    \"\"\"Return a Pandas dataframe with optimal values of beta.\"\"\"\n",
    "    n_beta_iterations = 100\n",
    "    epsilon_vec = np.linspace(0.05, 0.95, 10)\n",
    "    beta_vec_list = []\n",
    "    lambda_arrays_list = []\n",
    "    for lambda_ in tqdm(lambda_vec):\n",
    "        for i in range(n_beta_iterations):\n",
    "            bo = BetaOptimizerCompetition(g, lambda_, n_iterations, verbose=False)\n",
    "            bo.run()\n",
    "            try:\n",
    "                beta_vec = compute_beta_vec(bo, epsilon_vec)\n",
    "            except IndexError:\n",
    "                pass\n",
    "            else:\n",
    "                beta_vec_list.append(beta_vec)\n",
    "        lambda_arrays_list.append(np.array(beta_vec_list))\n",
    "\n",
    "    optimal_betas_df = get_optimal_betas_df(lambda_vec, epsilon_vec, lambda_arrays_list, '1k_cities')\n",
    "    return optimal_betas_df"
   ]
  },
  {
   "cell_type": "code",
   "execution_count": 130,
   "metadata": {},
   "outputs": [
    {
     "data": {
      "application/vnd.jupyter.widget-view+json": {
       "model_id": "7ce71f8869e240e28871d5a0c8aec603",
       "version_major": 2,
       "version_minor": 0
      },
      "text/plain": [
       "HBox(children=(HTML(value=''), FloatProgress(value=0.0, max=1.0), HTML(value='')))"
      ]
     },
     "metadata": {},
     "output_type": "display_data"
    },
    {
     "name": "stdout",
     "output_type": "stream",
     "text": [
      "\n"
     ]
    }
   ],
   "source": [
    "n_iterations = 1000 # Number of iterations for optimizing betas\n",
    "lambda_vec = [3.]\n",
    "optimal_betas_1k_cities_df = compute_optimal_betas_competition(g, lambda_vec, n_iterations)"
   ]
  },
  {
   "cell_type": "code",
   "execution_count": 99,
   "metadata": {},
   "outputs": [
    {
     "data": {
      "text/html": [
       "<div>\n",
       "<style scoped>\n",
       "    .dataframe tbody tr th:only-of-type {\n",
       "        vertical-align: middle;\n",
       "    }\n",
       "\n",
       "    .dataframe tbody tr th {\n",
       "        vertical-align: top;\n",
       "    }\n",
       "\n",
       "    .dataframe thead th {\n",
       "        text-align: right;\n",
       "    }\n",
       "</style>\n",
       "<table border=\"1\" class=\"dataframe\">\n",
       "  <thead>\n",
       "    <tr style=\"text-align: right;\">\n",
       "      <th></th>\n",
       "      <th>model</th>\n",
       "      <th>lambda</th>\n",
       "      <th>epsilon</th>\n",
       "      <th>beta</th>\n",
       "    </tr>\n",
       "  </thead>\n",
       "  <tbody>\n",
       "    <tr>\n",
       "      <th>0</th>\n",
       "      <td>1k_cities</td>\n",
       "      <td>3.0</td>\n",
       "      <td>0.05</td>\n",
       "      <td>0.072687</td>\n",
       "    </tr>\n",
       "    <tr>\n",
       "      <th>1</th>\n",
       "      <td>1k_cities</td>\n",
       "      <td>3.0</td>\n",
       "      <td>0.15</td>\n",
       "      <td>0.046031</td>\n",
       "    </tr>\n",
       "    <tr>\n",
       "      <th>2</th>\n",
       "      <td>1k_cities</td>\n",
       "      <td>3.0</td>\n",
       "      <td>0.25</td>\n",
       "      <td>0.033636</td>\n",
       "    </tr>\n",
       "    <tr>\n",
       "      <th>3</th>\n",
       "      <td>1k_cities</td>\n",
       "      <td>3.0</td>\n",
       "      <td>0.35</td>\n",
       "      <td>0.025472</td>\n",
       "    </tr>\n",
       "    <tr>\n",
       "      <th>4</th>\n",
       "      <td>1k_cities</td>\n",
       "      <td>3.0</td>\n",
       "      <td>0.45</td>\n",
       "      <td>0.019374</td>\n",
       "    </tr>\n",
       "    <tr>\n",
       "      <th>5</th>\n",
       "      <td>1k_cities</td>\n",
       "      <td>3.0</td>\n",
       "      <td>0.55</td>\n",
       "      <td>0.014506</td>\n",
       "    </tr>\n",
       "    <tr>\n",
       "      <th>6</th>\n",
       "      <td>1k_cities</td>\n",
       "      <td>3.0</td>\n",
       "      <td>0.65</td>\n",
       "      <td>0.010452</td>\n",
       "    </tr>\n",
       "    <tr>\n",
       "      <th>7</th>\n",
       "      <td>1k_cities</td>\n",
       "      <td>3.0</td>\n",
       "      <td>0.75</td>\n",
       "      <td>0.006980</td>\n",
       "    </tr>\n",
       "    <tr>\n",
       "      <th>8</th>\n",
       "      <td>1k_cities</td>\n",
       "      <td>3.0</td>\n",
       "      <td>0.85</td>\n",
       "      <td>0.003943</td>\n",
       "    </tr>\n",
       "    <tr>\n",
       "      <th>9</th>\n",
       "      <td>1k_cities</td>\n",
       "      <td>3.0</td>\n",
       "      <td>0.95</td>\n",
       "      <td>0.001245</td>\n",
       "    </tr>\n",
       "  </tbody>\n",
       "</table>\n",
       "</div>"
      ],
      "text/plain": [
       "       model  lambda  epsilon      beta\n",
       "0  1k_cities     3.0     0.05  0.072687\n",
       "1  1k_cities     3.0     0.15  0.046031\n",
       "2  1k_cities     3.0     0.25  0.033636\n",
       "3  1k_cities     3.0     0.35  0.025472\n",
       "4  1k_cities     3.0     0.45  0.019374\n",
       "5  1k_cities     3.0     0.55  0.014506\n",
       "6  1k_cities     3.0     0.65  0.010452\n",
       "7  1k_cities     3.0     0.75  0.006980\n",
       "8  1k_cities     3.0     0.85  0.003943\n",
       "9  1k_cities     3.0     0.95  0.001245"
      ]
     },
     "execution_count": 99,
     "metadata": {},
     "output_type": "execute_result"
    }
   ],
   "source": [
    "optimal_betas_1k_cities_df"
   ]
  },
  {
   "cell_type": "code",
   "execution_count": 85,
   "metadata": {},
   "outputs": [],
   "source": [
    "# Save results to file\n",
    "optimal_betas_1k_cities_df.to_csv(os.path.join(generated_data_dir, '1k_cities_optimal_betas.csv'), index=False)"
   ]
  },
  {
   "cell_type": "markdown",
   "metadata": {},
   "source": [
    "## Metropolis-Hastings"
   ]
  },
  {
   "cell_type": "markdown",
   "metadata": {},
   "source": [
    "### Results on $\\mathcal{G}_1$"
   ]
  },
  {
   "cell_type": "code",
   "execution_count": 34,
   "metadata": {},
   "outputs": [],
   "source": [
    "g = ModelAPI(dataset_df)\n",
    "gname = 'other'\n",
    "\n",
    "lam = 1\n",
    "num_iters = 2000\n",
    "beta_schedule = getOptBetaSeq(gname, lam)\n",
    "beta = beta_schedule[0]\n",
    "beta_interp = interpBetas(beta_schedule, num_iters, smooth=False)"
   ]
  },
  {
   "cell_type": "code",
   "execution_count": 35,
   "metadata": {},
   "outputs": [
    {
     "data": {
      "text/plain": [
       "1000"
      ]
     },
     "execution_count": 35,
     "metadata": {},
     "output_type": "execute_result"
    }
   ],
   "source": [
    "len(g)"
   ]
  },
  {
   "cell_type": "code",
   "execution_count": 26,
   "metadata": {},
   "outputs": [
    {
     "name": "stderr",
     "output_type": "stream",
     "text": [
      "100%|██████████| 2000/2000 [00:02<00:00, 734.64it/s]"
     ]
    },
    {
     "name": "stdout",
     "output_type": "stream",
     "text": [
      "-982.6315926759925\n"
     ]
    },
    {
     "name": "stderr",
     "output_type": "stream",
     "text": [
      "\n"
     ]
    }
   ],
   "source": [
    "inputs = {'v': g.v, 'x': g.x, 'lam': lam}\n",
    "init_state = np.random.randint(0, 2, size=len(g), dtype=bool)\n",
    "optim = optimizer(objective, transition, beta, init_state, **inputs)\n",
    "val, cities_state = optim.run(iters=num_iters, beta_schedule=beta_schedule, reset=True)\n",
    "print(val)"
   ]
  },
  {
   "cell_type": "code",
   "execution_count": 37,
   "metadata": {},
   "outputs": [],
   "source": [
    "result = pd.DataFrame([np.arange(len(g)), np.int32(cities_state)]).T\n",
    "result.to_csv('result_{0:.2f}.csv'.format(val), index=False)"
   ]
  },
  {
   "cell_type": "code",
   "execution_count": 15,
   "metadata": {},
   "outputs": [
    {
     "data": {
      "text/plain": [
       "<Figure size 800x480 with 0 Axes>"
      ]
     },
     "metadata": {},
     "output_type": "display_data"
    },
    {
     "data": {
      "image/png": "[encoded data removed]",
      "text/plain": [
       "<Figure size 1040x640 with 2 Axes>"
      ]
     },
     "metadata": {
      "needs_background": "light"
     },
     "output_type": "display_data"
    }
   ],
   "source": [
    "# plt.clf()\n",
    "# fig, ax1 = plt.subplots()\n",
    "# fig.set_size_inches(13, 8)\n",
    "# ax1.plot(range(num_iters), val, label='Objective function')\n",
    "# ax1.set_xlabel('step')\n",
    "# ax1.set_ylabel('Objective value')\n",
    "# ax1.set_title(r'The value of objective function and number of cities choosen ($\\lambda={0:.2f}$, {1:s})'.format(lam, gname))\n",
    "\n",
    "# ax2 = ax1.twinx()\n",
    "# ax2.scatter(range(num_iters), num_cities, s=3, marker='d', color='r', label='Number of cities')\n",
    "# ax2.set_ylabel('Number of cities')\n",
    "# fig.legend(loc='lower right', bbox_to_anchor=(0.92, 0.1))\n",
    "# fig.tight_layout()"
   ]
  },
  {
   "cell_type": "markdown",
   "metadata": {},
   "source": [
    "---"
   ]
  }
 ],
 "metadata": {
  "kernelspec": {
   "display_name": "Python [conda env:markov]",
   "language": "python",
   "name": "conda-env-markov-py"
  },
  "language_info": {
   "codemirror_mode": {
    "name": "ipython",
    "version": 3
   },
   "file_extension": ".py",
   "mimetype": "text/x-python",
   "name": "python",
   "nbconvert_exporter": "python",
   "pygments_lexer": "ipython3",
   "version": "3.8.5"
  }
 },
 "nbformat": 4,
 "nbformat_minor": 4
}
