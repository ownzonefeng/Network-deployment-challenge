{
 "cells": [
  {
   "cell_type": "code",
   "execution_count": 3,
   "metadata": {},
   "outputs": [],
   "source": [
    "import os\n",
    "import pickle\n",
    "import scipy.stats as st\n",
    "import numpy as np\n",
    "import scipy as sp\n",
    "%matplotlib inline\n",
    "import matplotlib.pyplot as plt\n",
    "import pandas as pd\n",
    "from tqdm.notebook import tqdm\n",
    "\n",
    "from funcs import compute_beta_vec\n",
    "from funcs import get_optimal_betas_df\n",
    "from beta_optimizer import BetaOptimizer\n",
    "%load_ext autoreload\n",
    "%autoreload 2\n",
    "\n",
    "# Directory in which file with optimal betas are stored\n",
    "generated_data_dir = 'generated_data'\n",
    "\n",
    "# Constants\n",
    "N = 100 # Number of cities\n",
    "n_iterations = 10000 # Number of iterations for optimizing betas"
   ]
  },
  {
   "cell_type": "code",
   "execution_count": 4,
   "metadata": {},
   "outputs": [],
   "source": [
    "class DatasetGenerator(object):\n",
    "    def __init__(self, N=100):\n",
    "        self.N = N\n",
    "        self.x = None\n",
    "        self.v = None\n",
    "        self.refresh()\n",
    "\n",
    "    def refresh(self):\n",
    "        raise Exception(\"undefined\")\n",
    "\n",
    "class G1(DatasetGenerator):\n",
    "    def refresh(self):\n",
    "        self.x = st.uniform().rvs((self.N,2))\n",
    "        self.v = st.uniform().rvs((self.N,))\n",
    "\n",
    "class G2(DatasetGenerator):\n",
    "    def refresh(self):\n",
    "        self.x = st.uniform().rvs((self.N,2))\n",
    "        self.v = np.exp(st.norm(-0.85, 1.3).rvs((self.N,)))"
   ]
  },
  {
   "cell_type": "code",
   "execution_count": 12,
   "metadata": {},
   "outputs": [],
   "source": [
    "def compute_optimal_betas(model_string, N, lambda_vec, n_iterations):\n",
    "    \"\"\"Return a Pandas dataframe with optimal values of beta.\"\"\"\n",
    "    if model_string == 'G1':\n",
    "        generator_class = G1\n",
    "    else:\n",
    "        generator_class = G2\n",
    "\n",
    "    n_beta_iterations = 100\n",
    "    epsilon_vec = np.linspace(0.05, 0.95, 10)\n",
    "    beta_vec_list = []\n",
    "    lambda_arrays_list = []\n",
    "    for lambda_ in tqdm(lambda_vec):\n",
    "        for i in range(n_beta_iterations):\n",
    "            bo = BetaOptimizer(generator_class, lambda_, N, n_iterations, verbose=False)\n",
    "            bo.run()\n",
    "            try:\n",
    "                beta_vec = compute_beta_vec(bo, epsilon_vec)\n",
    "            except IndexError:\n",
    "                pass\n",
    "            else:\n",
    "                beta_vec_list.append(beta_vec)\n",
    "        lambda_arrays_list.append(np.array(beta_vec_list))\n",
    "\n",
    "    optimal_betas_df = get_optimal_betas_df(lambda_vec, epsilon_vec, lambda_arrays_list, model_string)\n",
    "    return optimal_betas_df"
   ]
  },
  {
   "cell_type": "markdown",
   "metadata": {},
   "source": [
    "## Compute optimal $\\beta(\\epsilon)$"
   ]
  },
  {
   "cell_type": "markdown",
   "metadata": {},
   "source": [
    "### Generative model $G_1$"
   ]
  },
  {
   "cell_type": "code",
   "execution_count": 8,
   "metadata": {},
   "outputs": [
    {
     "data": {
      "application/vnd.jupyter.widget-view+json": {
       "model_id": "c1767170da494bcb95a64acf43d186d9",
       "version_major": 2,
       "version_minor": 0
      },
      "text/plain": [
       "HBox(children=(HTML(value=''), FloatProgress(value=0.0, max=11.0), HTML(value='')))"
      ]
     },
     "metadata": {},
     "output_type": "display_data"
    },
    {
     "name": "stdout",
     "output_type": "stream",
     "text": [
      "\n"
     ]
    }
   ],
   "source": [
    "lambda_vec = np.linspace(0, 1, 11)\n",
    "optimal_betas_G1_df = compute_optimal_betas('G1', N, lambda_vec, n_iterations)"
   ]
  },
  {
   "cell_type": "markdown",
   "metadata": {},
   "source": [
    "### Generative model $G_2$"
   ]
  },
  {
   "cell_type": "code",
   "execution_count": 13,
   "metadata": {},
   "outputs": [
    {
     "data": {
      "application/vnd.jupyter.widget-view+json": {
       "model_id": "a9212130d8f8434ca30800913e90a03b",
       "version_major": 2,
       "version_minor": 0
      },
      "text/plain": [
       "HBox(children=(HTML(value=''), FloatProgress(value=0.0, max=21.0), HTML(value='')))"
      ]
     },
     "metadata": {},
     "output_type": "display_data"
    },
    {
     "name": "stdout",
     "output_type": "stream",
     "text": [
      "\n"
     ]
    }
   ],
   "source": [
    "lambda_vec = np.linspace(0, 2, 21)\n",
    "optimal_betas_G2_df = compute_optimal_betas('G2', N, lambda_vec, n_iterations)"
   ]
  },
  {
   "cell_type": "code",
   "execution_count": 14,
   "metadata": {},
   "outputs": [],
   "source": [
    "# Concatenate results for G1 and G2\n",
    "optimal_betas_df = optimal_betas_G1_df.append(optimal_betas_G2_df)\n",
    "\n",
    "# Save results to file\n",
    "optimal_betas_df.to_csv(os.path.join(generated_data_dir, 'G1_and_G2_optimal_betas.csv'), index=False)"
   ]
  },
  {
   "cell_type": "code",
   "execution_count": null,
   "metadata": {},
   "outputs": [],
   "source": []
  }
 ],
 "metadata": {
  "kernelspec": {
   "display_name": "Python 3",
   "language": "python",
   "name": "python3"
  },
  "language_info": {
   "codemirror_mode": {
    "name": "ipython",
    "version": 3
   },
   "file_extension": ".py",
   "mimetype": "text/x-python",
   "name": "python",
   "nbconvert_exporter": "python",
   "pygments_lexer": "ipython3",
   "version": "3.8.5"
  }
 },
 "nbformat": 4,
 "nbformat_minor": 4
}
